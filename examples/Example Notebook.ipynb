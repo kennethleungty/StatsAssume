{
 "cells": [
  {
   "cell_type": "markdown",
   "metadata": {},
   "source": [
    "## Example Notebook - Test Local Library"
   ]
  },
  {
   "cell_type": "markdown",
   "metadata": {},
   "source": [
    "https://stackoverflow.com/questions/34478398/import-local-function-from-a-module-housed-in-another-directory-with-relative-im"
   ]
  },
  {
   "cell_type": "code",
   "execution_count": 1,
   "metadata": {
    "scrolled": true
   },
   "outputs": [
    {
     "name": "stdout",
     "output_type": "stream",
     "text": [
      "D:\\Google Drive\\Data Vault\\GitHub\\pyassume\n"
     ]
    }
   ],
   "source": [
    "cd .."
   ]
  },
  {
   "cell_type": "code",
   "execution_count": 2,
   "metadata": {
    "scrolled": false
   },
   "outputs": [
    {
     "name": "stderr",
     "output_type": "stream",
     "text": [
      "2022-01-10 23:09:18.701 | INFO     | src.pyassume.reports:_determine_task_type:95 - [+] Executing task type (detected automatically): linear_regression\n",
      "2022-01-10 23:09:18.701 | INFO     | src.pyassume.reports:_process_categorical_features:125 - [+] Categorical features specified by user: ['Species']\n",
      "2022-01-10 23:09:18.701 | INFO     | src.pyassume.reports:_process_categorical_features:135 - [+] Proceeding with one-hot encoding of categorical features\n",
      "2022-01-10 23:09:18.710 | INFO     | src.pyassume.reports:_process_categorical_features:143 - [+] Completed one-hot encoding of categorical features: ['Species']\n"
     ]
    },
    {
     "data": {
      "text/html": [
       "\n",
       "        <iframe\n",
       "            width=\"100%\"\n",
       "            height=\"650\"\n",
       "            src=\"http://127.0.0.1:8090/\"\n",
       "            frameborder=\"0\"\n",
       "            allowfullscreen\n",
       "            \n",
       "        ></iframe>\n",
       "        "
      ],
      "text/plain": [
       "<IPython.lib.display.IFrame at 0x28ea0435b50>"
      ]
     },
     "metadata": {},
     "output_type": "display_data"
    }
   ],
   "source": [
    "from src.pyassume import Checker\n",
    "from src.pyassume.datasets import load_data\n",
    "\n",
    "df = load_data('Fish', processed=False)\n",
    "assume = Checker(df, target='Weight', categorical_features=['Species'],\n",
    "                 categorical_encoder='ohe')\n",
    "assume.report()"
   ]
  },
  {
   "cell_type": "code",
   "execution_count": null,
   "metadata": {},
   "outputs": [],
   "source": [
    "df = load_data('Insurance', processed=False)\n",
    "assume = Checker(df, target='charges', categorical_encoder='ohe')\n",
    "assume.report()"
   ]
  }
 ],
 "metadata": {
  "kernelspec": {
   "display_name": "env_pyassume",
   "language": "python",
   "name": "env_pyassume"
  },
  "language_info": {
   "codemirror_mode": {
    "name": "ipython",
    "version": 3
   },
   "file_extension": ".py",
   "mimetype": "text/x-python",
   "name": "python",
   "nbconvert_exporter": "python",
   "pygments_lexer": "ipython3",
   "version": "3.9.7"
  }
 },
 "nbformat": 4,
 "nbformat_minor": 4
}
